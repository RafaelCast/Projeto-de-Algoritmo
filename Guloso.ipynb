{
 "cells": [
  {
   "cell_type": "code",
   "execution_count": 102,
   "metadata": {},
   "outputs": [
    {
     "name": "stdout",
     "output_type": "stream",
     "text": [
      "Aux: 10.392304845413264\n",
      "i+1: 0\n",
      "Aux: 10.295630140987\n",
      "i+1: 1\n",
      "Aux: 10.14889156509222\n",
      "i+1: 2\n",
      "Aux: 10.04987562112089\n",
      "i+1: 3\n",
      "[[3, 0], [4, 2], [2, 1], [3, 2]]\n"
     ]
    }
   ],
   "source": [
    "import math\n",
    "import numpy as np\n",
    "\n",
    "def read_file():\n",
    "    file = open(\"myfile.txt\", \"r\")\n",
    "    content = file.read()\n",
    "    file.close()\n",
    "    return content\n",
    "\n",
    "def init_matrix(nLins, nCols):\n",
    "    D = [None] * nLins\n",
    "    for i in range(nLins):\n",
    "        D[i] = [0] * nCols\n",
    "        for j in range(nCols):\n",
    "            D[i][j] = 0\n",
    "    return D\n",
    "\n",
    "def linearize(matriz, nLins, nCols):\n",
    "    l = 0\n",
    "    D = init_matrix(nLins, nCols)\n",
    "    for i in range(nLins, 0, -1):\n",
    "        for j in range(l, nCols, 1):\n",
    "            aux = 0\n",
    "\n",
    "            for k in range(0, nCols, 1):\n",
    "                aux += (matriz[k][nCols-i]-matriz[k][j])**2\n",
    "            \n",
    "            aux = math.sqrt(aux)\n",
    "            #aux= \"{:.2f}\".format(aux)\n",
    "            D[j][l] = aux\n",
    "            #D[l][j] = aux\n",
    "        \n",
    "        l+=1 \n",
    "\n",
    "    return D\n",
    "\n",
    "def return_posi_max(D, m):\n",
    "    D = np.array(D)\n",
    "    conj = init_matrix(m,2)\n",
    "    n = l = 0\n",
    "    aux = sorted([j for i in D for j in i], reverse = True)\n",
    "    for i in range(m):\n",
    "        array = np.where(D == aux[i])\n",
    "        print('Aux:', aux[i])\n",
    "        print('i+1:', i)\n",
    "        j = array[0][0]\n",
    "        k = array[1][0]\n",
    "        conj[l] = [j, k]\n",
    "        l = l+1\n",
    "    print(conj)\n",
    "\n",
    "            \n",
    "                \n",
    "content = read_file()\n",
    "matriz = eval(content)\n",
    "\n",
    "nLins = nCols = len(matriz)\n",
    "D = linearize(matriz, nLins, nCols)\n",
    "m=4\n",
    "return_posi_max(D, m)\n",
    "\n",
    "    \n",
    "#membros = return_max(D, 4)\n",
    "\n",
    "\n",
    "#m = return_max(D, nLins, nCols)\n",
    "    \n"
   ]
  }
 ],
 "metadata": {
  "kernelspec": {
   "display_name": "Python 3.8.10 64-bit",
   "language": "python",
   "name": "python3"
  },
  "language_info": {
   "codemirror_mode": {
    "name": "ipython",
    "version": 3
   },
   "file_extension": ".py",
   "mimetype": "text/x-python",
   "name": "python",
   "nbconvert_exporter": "python",
   "pygments_lexer": "ipython3",
   "version": "3.8.10"
  },
  "orig_nbformat": 4,
  "vscode": {
   "interpreter": {
    "hash": "916dbcbb3f70747c44a77c7bcd40155683ae19c65e1c03b4aa3499c5328201f1"
   }
  }
 },
 "nbformat": 4,
 "nbformat_minor": 2
}
