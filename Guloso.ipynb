{
 "cells": [
  {
   "cell_type": "code",
   "execution_count": 31,
   "metadata": {},
   "outputs": [
    {
     "name": "stdout",
     "output_type": "stream",
     "text": [
      "[28, 25, 57, 31, 30, 8, 73, 58, 41, 74]\n"
     ]
    }
   ],
   "source": [
    "import math\n",
    "import numpy as np\n",
    "\n",
    "def read_file():\n",
    "    file = open(\"myfile.txt\", \"r\")\n",
    "    content = file.read()\n",
    "    file.close()\n",
    "    return content\n",
    "\n",
    "def init_matrix(nLins, nCols):\n",
    "    D = [None] * nLins\n",
    "    for i in range(nLins):\n",
    "        D[i] = [0] * nCols\n",
    "        for j in range(nCols):\n",
    "            D[i][j] = 0\n",
    "    return D\n",
    "\n",
    "def linearize(matriz, nLins, nCols):\n",
    "    l = 0\n",
    "    D = init_matrix(nLins, nCols)\n",
    "    for i in range(nLins, 0, -1):\n",
    "        for j in range(l, nCols, 1):\n",
    "            aux = 0\n",
    "\n",
    "            for k in range(0, nCols, 1):\n",
    "                aux += (matriz[k][nCols-i]-matriz[k][j])**2\n",
    "            \n",
    "            aux = math.sqrt(aux)\n",
    "            #aux= \"{:.2f}\".format(aux)\n",
    "            D[j][l] = aux\n",
    "            #D[l][j] = aux\n",
    "        \n",
    "        l+=1 \n",
    "\n",
    "    return D\n",
    "\n",
    "def return_posi_max(D, m):\n",
    "    D = np.array(D)\n",
    "    conj = init_matrix(m,2)\n",
    "    n = l = 0\n",
    "    aux = sorted([j for i in D for j in i], reverse = True)\n",
    "    for i in range(m):\n",
    "        array = np.where(D == aux[i])\n",
    "        j = array[0][0]\n",
    "        k = array[1][0]\n",
    "        conj[l] = [j, k]\n",
    "        l = l+1\n",
    "    return conj\n",
    "\n",
    "def return_elements(conj, m):\n",
    "    array = []\n",
    "    array = [-1 for i in range(m)]\n",
    "    j = k = i =0\n",
    "    for l in range(len(conj)):\n",
    "        j = conj[l][0]\n",
    "        k = conj[l][1]\n",
    "        if not((int(j) in array)) and i<m:\n",
    "            array[i] = int(j)\n",
    "            i = i+1\n",
    "        if not ((int(k) in array)) and i<m:\n",
    "            array[i] = int(k)\n",
    "            i = i+1\n",
    "        if(i == m):\n",
    "            break\n",
    "    return array\n",
    "            \n",
    "                \n",
    "content = read_file()\n",
    "matriz = eval(content)\n",
    "\n",
    "nLins = nCols = len(matriz)\n",
    "D = linearize(matriz, nLins, nCols)\n",
    "m=10\n",
    "conj = return_posi_max(D, m)\n",
    "array = return_elements(conj, m)\n",
    "print(array)\n",
    "\n",
    "    \n"
   ]
  }
 ],
 "metadata": {
  "kernelspec": {
   "display_name": "Python 3.8.10 64-bit",
   "language": "python",
   "name": "python3"
  },
  "language_info": {
   "codemirror_mode": {
    "name": "ipython",
    "version": 3
   },
   "file_extension": ".py",
   "mimetype": "text/x-python",
   "name": "python",
   "nbconvert_exporter": "python",
   "pygments_lexer": "ipython3",
   "version": "3.8.10"
  },
  "orig_nbformat": 4,
  "vscode": {
   "interpreter": {
    "hash": "916dbcbb3f70747c44a77c7bcd40155683ae19c65e1c03b4aa3499c5328201f1"
   }
  }
 },
 "nbformat": 4,
 "nbformat_minor": 2
}
