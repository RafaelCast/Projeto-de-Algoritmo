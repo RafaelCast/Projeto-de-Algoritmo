{
 "cells": [
  {
   "cell_type": "code",
   "execution_count": 50,
   "metadata": {},
   "outputs": [
    {
     "ename": "IndexError",
     "evalue": "list assignment index out of range",
     "output_type": "error",
     "traceback": [
      "\u001b[0;31m---------------------------------------------------------------------------\u001b[0m",
      "\u001b[0;31mIndexError\u001b[0m                                Traceback (most recent call last)",
      "Cell \u001b[0;32mIn [50], line 81\u001b[0m\n\u001b[1;32m     79\u001b[0m D \u001b[38;5;241m=\u001b[39m linearize(matriz, nLins, nCols)\n\u001b[1;32m     80\u001b[0m m\u001b[38;5;241m=\u001b[39m\u001b[38;5;241m4\u001b[39m\n\u001b[0;32m---> 81\u001b[0m conj \u001b[38;5;241m=\u001b[39m \u001b[43mreturn_posi_max\u001b[49m\u001b[43m(\u001b[49m\u001b[43mD\u001b[49m\u001b[43m,\u001b[49m\u001b[43m \u001b[49m\u001b[43mm\u001b[49m\u001b[43m)\u001b[49m\n",
      "Cell \u001b[0;32mIn [50], line 65\u001b[0m, in \u001b[0;36mreturn_posi_max\u001b[0;34m(D, m)\u001b[0m\n\u001b[1;32m     63\u001b[0m     \u001b[38;5;28;01mpass\u001b[39;00m\n\u001b[1;32m     64\u001b[0m \u001b[38;5;28;01melif\u001b[39;00m \u001b[38;5;129;01mnot\u001b[39;00m (j \u001b[38;5;129;01min\u001b[39;00m conj):\n\u001b[0;32m---> 65\u001b[0m     \u001b[43mconj\u001b[49m\u001b[43m[\u001b[49m\u001b[43mi\u001b[49m\u001b[43m]\u001b[49m \u001b[38;5;241m=\u001b[39m \u001b[38;5;28mint\u001b[39m(j)\n\u001b[1;32m     66\u001b[0m     i \u001b[38;5;241m=\u001b[39m i\u001b[38;5;241m+\u001b[39m\u001b[38;5;241m1\u001b[39m\n\u001b[1;32m     67\u001b[0m \u001b[38;5;28;01melif\u001b[39;00m \u001b[38;5;129;01mnot\u001b[39;00m (k \u001b[38;5;129;01min\u001b[39;00m conj):\n",
      "\u001b[0;31mIndexError\u001b[0m: list assignment index out of range"
     ]
    }
   ],
   "source": [
    "import math\n",
    "import numpy as np\n",
    "\n",
    "def read_file():\n",
    "    file = open(\"myfile.txt\", \"r\")\n",
    "    content = file.read()\n",
    "    file.close()\n",
    "    return content\n",
    "\n",
    "def init_matrix(nLins, nCols):\n",
    "    D = [None] * nLins\n",
    "    for i in range(nLins):\n",
    "        D[i] = [0] * nCols\n",
    "        for j in range(nCols):\n",
    "            D[i][j] = 0\n",
    "    return D\n",
    "\n",
    "def linearize(matriz, nLins, nCols):\n",
    "    l = 0\n",
    "    D = init_matrix(nLins, nCols)\n",
    "    for i in range(nLins, 0, -1):\n",
    "        for j in range(l, nCols, 1):\n",
    "            aux = 0\n",
    "\n",
    "            for k in range(0, nCols, 1):\n",
    "                aux += (matriz[k][nCols-i]-matriz[k][j])**2\n",
    "            \n",
    "            aux = math.sqrt(aux)\n",
    "            #aux= \"{:.2f}\".format(aux)\n",
    "            D[j][l] = aux\n",
    "            #D[l][j] = aux\n",
    "        \n",
    "        l+=1 \n",
    "\n",
    "    return D\n",
    "\n",
    "def return_posi_max(D, m):\n",
    "    D = np.array(D)\n",
    "    conj = init_matrix(m,2)\n",
    "    n = l = 0\n",
    "    aux = sorted([j for i in D for j in i], reverse = True)\n",
    "    for i in range(m):\n",
    "        array = np.where(D == aux[i])\n",
    "        j = array[0][0]\n",
    "        k = array[1][0]\n",
    "        conj[l] = [j, k]\n",
    "        l = l+1\n",
    "    return conj\n",
    "\n",
    "def return_elements(conj, m):\n",
    "    array = []\n",
    "    array = [0 for i in range(m)]\n",
    "    j = k = 0\n",
    "    for l in range(len(conj)):\n",
    "        j = conj[l][0]\n",
    "        k = conj[l][1]\n",
    "        if(j in conj):\n",
    "            pass\n",
    "        elif(k in conj):\n",
    "            pass\n",
    "        elif not (j in conj):\n",
    "            conj[i] = int(j)\n",
    "            i = i+1\n",
    "        elif not (k in conj):\n",
    "            conj[i] = int(k)\n",
    "            i = i+1\n",
    "        if(i == m):\n",
    "            break\n",
    "    return array\n",
    "            \n",
    "                \n",
    "content = read_file()\n",
    "matriz = eval(content)\n",
    "\n",
    "nLins = nCols = len(matriz)\n",
    "D = linearize(matriz, nLins, nCols)\n",
    "m=4\n",
    "conj = return_posi_max(D, m)\n",
    "\n",
    "    \n",
    "#membros = return_max(D, 4)\n",
    "\n",
    "\n",
    "#m = return_max(D, nLins, nCols)\n",
    "    \n"
   ]
  }
 ],
 "metadata": {
  "kernelspec": {
   "display_name": "Python 3.8.10 64-bit",
   "language": "python",
   "name": "python3"
  },
  "language_info": {
   "codemirror_mode": {
    "name": "ipython",
    "version": 3
   },
   "file_extension": ".py",
   "mimetype": "text/x-python",
   "name": "python",
   "nbconvert_exporter": "python",
   "pygments_lexer": "ipython3",
   "version": "3.8.10"
  },
  "orig_nbformat": 4,
  "vscode": {
   "interpreter": {
    "hash": "916dbcbb3f70747c44a77c7bcd40155683ae19c65e1c03b4aa3499c5328201f1"
   }
  }
 },
 "nbformat": 4,
 "nbformat_minor": 2
}
